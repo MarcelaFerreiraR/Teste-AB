{
  "nbformat": 4,
  "nbformat_minor": 0,
  "metadata": {
    "colab": {
      "provenance": [],
      "mount_file_id": "1r1d5CqCeppxD0sXRtCZMXD8tpqv4cl2f",
      "authorship_tag": "ABX9TyOGFBjLOcKkT59qZ80DjW9Q",
      "include_colab_link": true
    },
    "kernelspec": {
      "name": "python3",
      "display_name": "Python 3"
    },
    "language_info": {
      "name": "python"
    }
  },
  "cells": [
    {
      "cell_type": "markdown",
      "metadata": {
        "id": "view-in-github",
        "colab_type": "text"
      },
      "source": [
        "<a href=\"https://colab.research.google.com/github/MarcelaFerreiraR/Teste-AB/blob/main/Teste_AB.ipynb\" target=\"_parent\"><img src=\"https://colab.research.google.com/assets/colab-badge.svg\" alt=\"Open In Colab\"/></a>"
      ]
    },
    {
      "cell_type": "code",
      "execution_count": 8,
      "metadata": {
        "id": "0p0EoLKdBioR",
        "colab": {
          "base_uri": "https://localhost:8080/"
        },
        "outputId": "e8cad0ac-3d2b-44bd-f630-9fd6d7653f4c"
      },
      "outputs": [
        {
          "output_type": "stream",
          "name": "stdout",
          "text": [
            "                            OLS Regression Results                            \n",
            "==============================================================================\n",
            "Dep. Variable:              Conversão   R-squared:                       0.067\n",
            "Model:                            OLS   Adj. R-squared:                 -0.089\n",
            "Method:                 Least Squares   F-statistic:                    0.4286\n",
            "Date:                Sat, 04 Jan 2025   Prob (F-statistic):              0.537\n",
            "Time:                        15:50:23   Log-Likelihood:                -5.2722\n",
            "No. Observations:                   8   AIC:                             14.54\n",
            "Df Residuals:                       6   BIC:                             14.70\n",
            "Df Model:                           1                                         \n",
            "Covariance Type:            nonrobust                                         \n",
            "==============================================================================\n",
            "                 coef    std err          t      P>|t|      [0.025      0.975]\n",
            "------------------------------------------------------------------------------\n",
            "const          0.5000      0.270      1.852      0.114      -0.161       1.161\n",
            "Grupo          0.2500      0.382      0.655      0.537      -0.684       1.184\n",
            "==============================================================================\n",
            "Omnibus:                        2.521   Durbin-Watson:                   1.964\n",
            "Prob(Omnibus):                  0.284   Jarque-Bera (JB):                1.020\n",
            "Skew:                          -0.458   Prob(JB):                        0.601\n",
            "Kurtosis:                       1.510   Cond. No.                         2.62\n",
            "==============================================================================\n",
            "\n",
            "Notes:\n",
            "[1] Standard Errors assume that the covariance matrix of the errors is correctly specified.\n"
          ]
        },
        {
          "output_type": "stream",
          "name": "stderr",
          "text": [
            "/usr/local/lib/python3.10/dist-packages/scipy/stats/_axis_nan_policy.py:531: UserWarning: kurtosistest only valid for n>=20 ... continuing anyway, n=8\n",
            "  res = hypotest_fun_out(*samples, **kwds)\n"
          ]
        }
      ],
      "source": [
        "##Testes Ab usando regressão linear##\n",
        "import pandas as pd\n",
        "import statsmodels.api as sm\n",
        "\n",
        "#Dataset#\n",
        "data= pd.DataFrame({\n",
        "    \"Grupo\" : [0, 1, 0, 1, 0, 1, 0, 1],\n",
        "    \"Conversão\" : [1, 0, 0, 1, 1, 1, 0, 1]\n",
        "})\n",
        "\n",
        "#Adicionando constante#\n",
        "X = sm.add_constant(data[\"Grupo\"])\n",
        "Y = data[\"Conversão\"]\n",
        "\n",
        "#Ajustar modelo#\n",
        "model = sm.OLS(Y,X).fit()\n",
        "\n",
        "#Print model#\n",
        "print(model.summary())\n",
        "\n",
        "\n"
      ]
    },
    {
      "cell_type": "markdown",
      "source": [],
      "metadata": {
        "id": "F0rkX1N3Buu4"
      }
    }
  ]
}